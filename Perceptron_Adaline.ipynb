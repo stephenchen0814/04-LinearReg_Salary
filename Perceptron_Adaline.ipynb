{
  "nbformat": 4,
  "nbformat_minor": 0,
  "metadata": {
    "colab": {
      "provenance": [],
      "authorship_tag": "ABX9TyMWQKqlpT+pwIRt1rqfPD8w",
      "include_colab_link": true
    },
    "kernelspec": {
      "name": "python3",
      "display_name": "Python 3"
    },
    "language_info": {
      "name": "python"
    }
  },
  "cells": [
    {
      "cell_type": "markdown",
      "metadata": {
        "id": "view-in-github",
        "colab_type": "text"
      },
      "source": [
        "<a href=\"https://colab.research.google.com/github/stephenchen0814/04-LinearReg_Salary/blob/main/Perceptron_Adaline.ipynb\" target=\"_parent\"><img src=\"https://colab.research.google.com/assets/colab-badge.svg\" alt=\"Open In Colab\"/></a>"
      ]
    },
    {
      "cell_type": "code",
      "execution_count": 59,
      "metadata": {
        "id": "84Kj-lY3eMki"
      },
      "outputs": [],
      "source": [
        "import numpy as np\n",
        "import matplotlib.pyplot as plt\n",
        "from matplotlib.colors import ListedColormap\n",
        "import torch\n",
        "import torch.nn as nn\n",
        "from sklearn import datasets\n",
        "from sklearn.model_selection import train_test_split\n",
        "from sklearn.linear_model import LogisticRegression, SGDClassifier\n",
        "from sklearn.preprocessing import StandardScaler\n",
        "from sklearn.metrics import confusion_matrix\n",
        "import pandas as pd\n",
        "import seaborn as sns\n",
        "\n",
        "import warnings\n",
        "warnings.filterwarnings(\"ignore\")"
      ]
    },
    {
      "cell_type": "code",
      "metadata": {
        "id": "3af01974"
      },
      "source": [
        "dataset = pd.read_csv('Ionosphere.csv')\n",
        "X = dataset.iloc[:, :-1].values\n",
        "y = dataset.iloc[:, -1].values"
      ],
      "execution_count": 60,
      "outputs": []
    },
    {
      "cell_type": "code",
      "source": [
        "X1=X[:100, [0,2]]\n",
        "y1=y[:100]"
      ],
      "metadata": {
        "id": "sIiaGhJilhKv"
      },
      "execution_count": 61,
      "outputs": []
    },
    {
      "cell_type": "code",
      "source": [
        "X_train, X_test, y_train, y_test = train_test_split(X1, y1, test_size=0.20)\n",
        "sc=StandardScaler()\n",
        "\n",
        "X_train=sc.fit_transform(X_train)\n",
        "X_test=sc.transform(X_test)"
      ],
      "metadata": {
        "id": "kMV4tfoalhAP"
      },
      "execution_count": 62,
      "outputs": []
    },
    {
      "cell_type": "code",
      "source": [
        "fig=plt.figure(figsize=(8,8))\n",
        "plt.scatter(X[:50, 0], X[:50, 1], color='red', s=50, label='Setosa',edgecolors='k')\n",
        "plt.scatter(X[50:100, 0], X[50:100, 1], color='blue', s=50, label='Versicolor',edgecolors='k')\n",
        "plt.legend()\n",
        "plt.show()"
      ],
      "metadata": {
        "colab": {
          "base_uri": "https://localhost:8080/",
          "height": 591
        },
        "id": "l8l7Vl96mNsm",
        "outputId": "0888b742-43c9-4401-acc2-7d619facdd69"
      },
      "execution_count": 63,
      "outputs": [
        {
          "output_type": "display_data",
          "data": {
            "text/plain": [
              "<Figure size 800x800 with 1 Axes>"
            ],
            "image/png": "[encoded data removed]"
          },
          "metadata": {}
        }
      ]
    },
    {
      "cell_type": "code",
      "source": [
        "class Adaline:\n",
        "    def __init__(self, lr=0.01, n_epoch=150):\n",
        "        self.lr=lr\n",
        "        self.n_epoch=n_epoch\n",
        "        self.weight=None\n",
        "        self.bias=None\n",
        "\n",
        "    def __func__(self, X):\n",
        "        return np.dot(X, self.weight)+self.bias\n",
        "\n",
        "    def fit(self, X, y):\n",
        "        self.weight=np.zeros(X.shape[1])\n",
        "        self.bias=0.\n",
        "\n",
        "        for _ in range(self.n_epoch):\n",
        "            output=self.__func__(X)\n",
        "            error = output-y\n",
        "            dw=2*np.dot(error,X)/X.shape[0]\n",
        "            db=2*error.mean()\n",
        "\n",
        "            self.weight=self.weight-self.lr*dw\n",
        "            self.bias-=self.lr*db\n",
        "\n",
        "    def predict(self, X):\n",
        "        return np.where(self.__func__(X)>=0.5, 1,0)"
      ],
      "metadata": {
        "id": "KHhecjtAmNmY"
      },
      "execution_count": 64,
      "outputs": []
    },
    {
      "cell_type": "code",
      "source": [
        "ada=Adaline(n_epoch=300)\n",
        "ada.fit(X_train, y_train)\n",
        "confusion_matrix(y_test, ada.predict(X_test))"
      ],
      "metadata": {
        "colab": {
          "base_uri": "https://localhost:8080/"
        },
        "id": "wOEjBo8gmNef",
        "outputId": "7d8f1655-5321-41db-8855-c9bd433a7c78"
      },
      "execution_count": 65,
      "outputs": [
        {
          "output_type": "execute_result",
          "data": {
            "text/plain": [
              "array([[ 6,  3],\n",
              "       [ 0, 11]])"
            ]
          },
          "metadata": {},
          "execution_count": 65
        }
      ]
    },
    {
      "cell_type": "code",
      "source": [
        "# Helper function to plot a decision boundary.\n",
        "def plot_decision_boundary(X, y, model, resolution=0.02):\n",
        "    colors = ['red', 'blue', 'lightgreen', 'gray', 'cyan']\n",
        "    cmap = ListedColormap(colors[:len(np.unique(y))])\n",
        "    markers = ('s', 'x', 'o', '^', 'v')\n",
        "\n",
        "    # Set min and max values and give it some padding\n",
        "    x_min, x_max = X[:,0].min()-1, X[:,0].max()+1\n",
        "    y_min, y_max = X[:,1].min()-1, X[:,1].max()+1\n",
        "\n",
        "    # Generate a grid of points with distance h between them\n",
        "    xx, yy = np.meshgrid(np.arange(x_min, x_max, resolution), np.arange(y_min, y_max, resolution))\n",
        "    # Predict the function value for the whole grid\n",
        "    Z = model.predict(np.c_[xx.ravel(), yy.ravel()])\n",
        "    Z = Z.reshape(xx.shape)\n",
        "    # Plot the contour and training examples\n",
        "    plt.contourf(xx, yy, Z, alpha=0.3, cmap=cmap)\n",
        "    plt.xlim(xx.min(), xx.max())\n",
        "    plt.ylim(yy.min(), yy.max())\n",
        "\n",
        "\n",
        "    for idx, cl in enumerate(np.unique(y)):\n",
        "        plt.scatter(X[y==cl, 0], X[y==cl, 1],  color=cmap(idx),edgecolors='k',marker=markers[idx],label=cl)"
      ],
      "metadata": {
        "id": "NZohY2FBmtXv"
      },
      "execution_count": 66,
      "outputs": []
    },
    {
      "cell_type": "code",
      "source": [
        "plot_decision_boundary(X_test, y_test, ada)\n",
        "plt.title(\"Test Data\")\n",
        "plt.xlabel('sepal length [cm]')\n",
        "plt.ylabel('petal length [cm]')\n",
        "plt.tight_layout()\n",
        "plt.show()"
      ],
      "metadata": {
        "colab": {
          "base_uri": "https://localhost:8080/",
          "height": 466
        },
        "id": "aAUEnIKNmtMv",
        "outputId": "402a7fa3-93da-4712-eb81-8ce879daa9d8"
      },
      "execution_count": 67,
      "outputs": [
        {
          "output_type": "display_data",
          "data": {
            "text/plain": [
              "<Figure size 640x480 with 1 Axes>"
            ],
            "image/png": "[encoded data removed]"
          },
          "metadata": {}
        }
      ]
    },
    {
      "cell_type": "code",
      "source": [
        "X2=X[:100, :]\n",
        "y2=y[:100]\n",
        "\n",
        "X_train, X_test, y_train, y_test = train_test_split(X2, y2, test_size=0.20)\n",
        "sc=StandardScaler()\n",
        "\n",
        "X_train=sc.fit_transform(X_train)\n",
        "X_test=sc.transform(X_test)\n",
        "\n",
        "ada_full=Adaline()\n",
        "ada_full.fit(X_train, y_train)\n",
        "confusion_matrix(y_test, ada_full.predict(X_test))"
      ],
      "metadata": {
        "colab": {
          "base_uri": "https://localhost:8080/"
        },
        "id": "8D2umTN9mtE4",
        "outputId": "cfb0d8c4-5992-4344-e4b4-42042cfaa342"
      },
      "execution_count": 68,
      "outputs": [
        {
          "output_type": "execute_result",
          "data": {
            "text/plain": [
              "array([[ 4,  3],\n",
              "       [ 1, 12]])"
            ]
          },
          "metadata": {},
          "execution_count": 68
        }
      ]
    }
  ]
}